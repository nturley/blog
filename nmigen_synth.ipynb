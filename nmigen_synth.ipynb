{
  "nbformat": 4,
  "nbformat_minor": 0,
  "metadata": {
    "colab": {
      "provenance": [],
      "authorship_tag": "ABX9TyNzW5E5kgnYGx0oN5xjcCuO"
    },
    "kernelspec": {
      "name": "python3",
      "display_name": "Python 3"
    }
  },
  "cells": [
    {
      "cell_type": "markdown",
      "metadata": {
        "id": "kN4wP8tk82CL"
      },
      "source": [
        "# Install Deps"
      ]
    },
    {
      "cell_type": "code",
      "metadata": {
        "colab": {
          "base_uri": "https://localhost:8080/"
        },
        "id": "qXx54j_g2ZEg",
        "outputId": "9ffd55b3-1c29-4aa6-a50f-d922ddff5848"
      },
      "source": [
        "!pip install nmigen\n",
        "!pip install yowasp-yosys\n",
        "!npm i -g netlistsvg\n"
      ],
      "execution_count": null,
      "outputs": [
        {
          "output_type": "stream",
          "name": "stdout",
          "text": [
            "Requirement already satisfied: nmigen in /usr/local/lib/python3.10/dist-packages (0.2)\n",
            "Requirement already satisfied: setuptools in /usr/local/lib/python3.10/dist-packages (from nmigen) (67.7.2)\n",
            "Requirement already satisfied: pyvcd~=0.1.4 in /usr/local/lib/python3.10/dist-packages (from nmigen) (0.1.7)\n",
            "Requirement already satisfied: Jinja2 in /usr/local/lib/python3.10/dist-packages (from nmigen) (3.1.2)\n",
            "Requirement already satisfied: six in /usr/local/lib/python3.10/dist-packages (from pyvcd~=0.1.4->nmigen) (1.16.0)\n",
            "Requirement already satisfied: MarkupSafe>=2.0 in /usr/local/lib/python3.10/dist-packages (from Jinja2->nmigen) (2.1.3)\n",
            "Requirement already satisfied: yowasp-yosys in /usr/local/lib/python3.10/dist-packages (0.36.0.8.post620)\n",
            "Requirement already satisfied: yowasp-runtime~=1.12 in /usr/local/lib/python3.10/dist-packages (from yowasp-yosys) (1.46)\n",
            "Requirement already satisfied: click in /usr/local/lib/python3.10/dist-packages (from yowasp-yosys) (8.1.7)\n",
            "Requirement already satisfied: platformdirs~=3.0 in /usr/local/lib/python3.10/dist-packages (from yowasp-runtime~=1.12->yowasp-yosys) (3.11.0)\n",
            "Requirement already satisfied: wasmtime<16,>=1.0 in /usr/local/lib/python3.10/dist-packages (from yowasp-runtime~=1.12->yowasp-yosys) (15.0.0)\n",
            "\u001b[K\u001b[?25h/tools/node/bin/netlistsvg -> /tools/node/lib/node_modules/netlistsvg/bin/netlistsvg.js\n",
            "/tools/node/bin/netlistsvg-dumplayout -> /tools/node/lib/node_modules/netlistsvg/bin/exportLayout.js\n",
            "+ netlistsvg@1.0.2\n",
            "updated 1 package in 1.778s\n"
          ]
        }
      ]
    },
    {
      "cell_type": "markdown",
      "metadata": {
        "id": "4l7izry388vm"
      },
      "source": [
        "# Imports"
      ]
    },
    {
      "cell_type": "code",
      "metadata": {
        "id": "VcrKlAn-VabB"
      },
      "source": [
        "from nmigen import *\n",
        "from nmigen.back import rtlil\n",
        "from IPython.display import SVG, display"
      ],
      "execution_count": null,
      "outputs": []
    },
    {
      "cell_type": "markdown",
      "metadata": {
        "id": "Cr8wFOuz8MUn"
      },
      "source": [
        "# Schematic Renderer"
      ]
    },
    {
      "cell_type": "code",
      "metadata": {
        "id": "9FqZyduj51Nm"
      },
      "source": [
        "def render_schematic(design, ports):\n",
        "  with open(\"out.il\", \"w\") as f:\n",
        "      f.write(rtlil.convert(design, ports=ports))\n",
        "  !yowasp-yosys -q -p \"prep -flatten; write_json out.json\" out.il\n",
        "  !netlistsvg out.json\n",
        "  with open('out.svg') as f:\n",
        "    display(SVG(f.read()))"
      ],
      "execution_count": null,
      "outputs": []
    },
    {
      "cell_type": "markdown",
      "metadata": {
        "id": "QLlGuSql8lON"
      },
      "source": [
        "# nMigen Design"
      ]
    },
    {
      "cell_type": "code",
      "metadata": {
        "id": "RKU--kB8UTCy",
        "colab": {
          "base_uri": "https://localhost:8080/",
          "height": 256
        },
        "outputId": "9dbfe4a9-94b5-4040-ba1d-63b06af0f783"
      },
      "source": [
        "class Counter(Elaboratable):\n",
        "    def __init__(self, limit=100_000_000):\n",
        "        # parameters\n",
        "        self.limit = limit\n",
        "        # io\n",
        "        self.led = Signal()\n",
        "\n",
        "    def ports(self):\n",
        "        return [self.led]\n",
        "\n",
        "    def elaborate(self, platform):\n",
        "        m = Module()\n",
        "        if platform:\n",
        "            m.d.comb += platform.request('led').o.eq(self.led)\n",
        "        count = Signal(27)\n",
        "        m.d.comb += self.led.eq(count > self.limit // 2)\n",
        "        with m.If(count > self.limit):\n",
        "            m.d.sync += count.eq(0)\n",
        "        with m.Else():\n",
        "            m.d.sync += count.eq(count + 1)\n",
        "        return m\n",
        "\n",
        "design = Counter()\n",
        "render_schematic(design, design.ports())\n"
      ],
      "execution_count": null,
      "outputs": [
        {
          "output_type": "display_data",
          "data": {
            "text/plain": [
              "<IPython.core.display.SVG object>"
            ],
            "image/svg+xml": "<svg xmlns=\"http://www.w3.org/2000/svg\" xmlns:xlink=\"http://www.w3.org/1999/xlink\" xmlns:s=\"https://github.com/nturley/netlistsvg\" width=\"487\" height=\"235\">\n  <style>svg {\n    stroke:#000;\n    fill:none;\n  }\n  text {\n    fill:#000;\n    stroke:none;\n    font-size:10px;\n    font-weight: bold;\n    font-family: &quot;Courier New&quot;, monospace;\n  }\n  .nodelabel {\n    text-anchor: middle;\n  }\n  .inputPortLabel {\n    text-anchor: end;\n  }\n  .splitjoinBody {\n    fill:#000;\n  }</style>\n  <g s:type=\"gt\" transform=\"translate(385,193)\" s:width=\"25\" s:height=\"25\" id=\"cell_$2\">\n    <s:alias val=\"$gt\"/>\n    <circle r=\"12.5\" cx=\"12.5\" cy=\"12.5\" class=\"cell_$2\"/>\n    <line x1=\"7.5\" x2=\"17.5\" y1=\"7.5\" y2=\"12.5\" class=\"cell_$2\"/>\n    <line x1=\"7.5\" x2=\"17.5\" y1=\"17.5\" y2=\"12.5\" class=\"cell_$2\"/>\n    <g s:x=\"3\" s:y=\"5\" s:pid=\"A\"/>\n    <g s:x=\"3\" s:y=\"20\" s:pid=\"B\"/>\n    <g s:x=\"25\" s:y=\"12.5\" s:pid=\"Y\"/>\n  </g>\n  <g s:type=\"gt\" transform=\"translate(104.33333333333333,148)\" s:width=\"25\" s:height=\"25\" id=\"cell_$4\">\n    <s:alias val=\"$gt\"/>\n    <circle r=\"12.5\" cx=\"12.5\" cy=\"12.5\" class=\"cell_$4\"/>\n    <line x1=\"7.5\" x2=\"17.5\" y1=\"7.5\" y2=\"12.5\" class=\"cell_$4\"/>\n    <line x1=\"7.5\" x2=\"17.5\" y1=\"17.5\" y2=\"12.5\" class=\"cell_$4\"/>\n    <g s:x=\"3\" s:y=\"5\" s:pid=\"A\"/>\n    <g s:x=\"3\" s:y=\"20\" s:pid=\"B\"/>\n    <g s:x=\"25\" s:y=\"12.5\" s:pid=\"Y\"/>\n  </g>\n  <g s:type=\"add\" transform=\"translate(104.33333333333333,22)\" s:width=\"25\" s:height=\"25\" id=\"cell_$7\">\n    <s:alias val=\"$add\"/>\n    <circle r=\"12.5\" cx=\"12.5\" cy=\"12.5\" class=\"cell_$7\"/>\n    <line x1=\"7.5\" x2=\"17.5\" y1=\"12.5\" y2=\"12.5\" class=\"cell_$7\"/>\n    <line x1=\"12.5\" x2=\"12.5\" y1=\"7.5\" y2=\"17.5\" class=\"cell_$7\"/>\n    <g s:x=\"3\" s:y=\"5\" s:pid=\"A\"/>\n    <g s:x=\"3\" s:y=\"20\" s:pid=\"B\"/>\n    <g s:x=\"25\" s:y=\"12.5\" s:pid=\"Y\"/>\n  </g>\n  <g s:type=\"dff\" transform=\"translate(302,133)\" s:width=\"30\" s:height=\"40\" id=\"cell_$procdff$6\">\n    <s:alias val=\"$dff\"/>\n    <s:alias val=\"$_DFF_\"/>\n    <s:alias val=\"$_DFF_P_\"/>\n    <rect width=\"30\" height=\"40\" x=\"0\" y=\"0\" class=\"cell_$procdff$6\"/>\n    <path d=\"M0,35 L5,30 L0,25\" class=\"cell_$procdff$6\"/>\n    <g s:x=\"30\" s:y=\"10\" s:pid=\"Q\"/>\n    <g s:x=\"0\" s:y=\"30\" s:pid=\"CLK\"/>\n    <g s:x=\"0\" s:y=\"30\" s:pid=\"C\"/>\n    <g s:x=\"0\" s:y=\"10\" s:pid=\"D\"/>\n  </g>\n  <g s:type=\"mux\" transform=\"translate(169.33333333333334,24.5)\" s:width=\"20\" s:height=\"40\" id=\"cell_$procmux$2\">\n    <s:alias val=\"$pmux\"/>\n    <s:alias val=\"$mux\"/>\n    <s:alias val=\"$_MUX_\"/>\n    <path d=\"M0,0 L20,10 L20,30 L0,40 Z\" class=\"cell_$procmux$2\"/>\n    <g s:x=\"0\" s:y=\"10\" s:pid=\"A\"/>\n    <g s:x=\"0\" s:y=\"30\" s:pid=\"B\"/>\n    <g s:x=\"10\" s:y=\"35\" s:pid=\"S\"/>\n    <g s:x=\"20\" s:y=\"20\" s:pid=\"Y\"/>\n  </g>\n  <g s:type=\"mux\" transform=\"translate(234.33333333333334,72)\" s:width=\"20\" s:height=\"40\" id=\"cell_$procmux$4\">\n    <s:alias val=\"$pmux\"/>\n    <s:alias val=\"$mux\"/>\n    <s:alias val=\"$_MUX_\"/>\n    <path d=\"M0,0 L20,10 L20,30 L0,40 Z\" class=\"cell_$procmux$4\"/>\n    <g s:x=\"0\" s:y=\"10\" s:pid=\"A\"/>\n    <g s:x=\"0\" s:y=\"30\" s:pid=\"B\"/>\n    <g s:x=\"10\" s:y=\"35\" s:pid=\"S\"/>\n    <g s:x=\"20\" s:y=\"20\" s:pid=\"Y\"/>\n  </g>\n  <g s:type=\"inputExt\" transform=\"translate(231,153)\" s:width=\"30\" s:height=\"20\" id=\"cell_clk\">\n    <text x=\"15\" y=\"-4\" class=\"nodelabel cell_clk\" s:attribute=\"ref\">clk</text>\n    <s:alias val=\"$_inputExt_\"/>\n    <path d=\"M0,0 L0,20 L15,20 L30,10 L15,0 Z\" class=\"cell_clk\"/>\n    <g s:x=\"28\" s:y=\"10\" s:pid=\"Y\"/>\n  </g>\n  <g s:type=\"inputExt\" transform=\"translate(166,123)\" s:width=\"30\" s:height=\"20\" id=\"cell_rst\">\n    <text x=\"15\" y=\"-4\" class=\"nodelabel cell_rst\" s:attribute=\"ref\">rst</text>\n    <s:alias val=\"$_inputExt_\"/>\n    <path d=\"M0,0 L0,20 L15,20 L30,10 L15,0 Z\" class=\"cell_rst\"/>\n    <g s:x=\"28\" s:y=\"10\" s:pid=\"Y\"/>\n  </g>\n  <g s:type=\"outputExt\" transform=\"translate(445,195.5)\" s:width=\"30\" s:height=\"20\" id=\"cell_led\">\n    <text x=\"15\" y=\"-4\" class=\"nodelabel cell_led\" s:attribute=\"ref\">led</text>\n    <s:alias val=\"$_outputExt_\"/>\n    <path d=\"M30,0 L30,20 L15,20 L0,10 L15,0 Z\" class=\"cell_led\"/>\n    <g s:x=\"0\" s:y=\"10\" s:pid=\"A\"/>\n  </g>\n  <g s:type=\"constant\" transform=\"translate(296,203)\" s:width=\"30\" s:height=\"20\" id=\"cell_10111110101111000010000000\">\n    <text x=\"15\" y=\"-4\" class=\"nodelabel cell_10111110101111000010000000\" s:attribute=\"ref\">0x2faf080</text>\n    <s:alias val=\"$_constant_\"/>\n    <rect width=\"30\" height=\"20\" class=\"cell_10111110101111000010000000\"/>\n    <g s:x=\"30\" s:y=\"10\" s:pid=\"Y\"/>\n  </g>\n  <g s:type=\"constant\" transform=\"translate(12,158)\" s:width=\"30\" s:height=\"20\" id=\"cell_101111101011110000100000000\">\n    <text x=\"15\" y=\"-4\" class=\"nodelabel cell_101111101011110000100000000\" s:attribute=\"ref\">0x5f5e100</text>\n    <s:alias val=\"$_constant_\"/>\n    <rect width=\"30\" height=\"20\" class=\"cell_101111101011110000100000000\"/>\n    <g s:x=\"30\" s:y=\"10\" s:pid=\"Y\"/>\n  </g>\n  <g s:type=\"constant\" transform=\"translate(12,32)\" s:width=\"30\" s:height=\"20\" id=\"cell_1\">\n    <text x=\"15\" y=\"-4\" class=\"nodelabel cell_1\" s:attribute=\"ref\">1</text>\n    <s:alias val=\"$_constant_\"/>\n    <rect width=\"30\" height=\"20\" class=\"cell_1\"/>\n    <g s:x=\"30\" s:y=\"10\" s:pid=\"Y\"/>\n  </g>\n  <g s:type=\"constant\" transform=\"translate(101,92)\" s:width=\"30\" s:height=\"20\" id=\"cell_000000000000000000000000000\">\n    <text x=\"15\" y=\"-4\" class=\"nodelabel cell_000000000000000000000000000\" s:attribute=\"ref\">0x0</text>\n    <s:alias val=\"$_constant_\"/>\n    <rect width=\"30\" height=\"20\" class=\"cell_000000000000000000000000000\"/>\n    <g s:x=\"30\" s:y=\"10\" s:pid=\"Y\"/>\n  </g>\n  <line x1=\"332\" x2=\"360\" y1=\"143\" y2=\"143\" class=\"net_5,6,7,8,9,10,11,12,13,14,15,16,17,18,19,20,21,22,23,24,25,26,27,28,29,30,31\"/>\n  <line x1=\"360\" x2=\"360\" y1=\"143\" y2=\"198\" class=\"net_5,6,7,8,9,10,11,12,13,14,15,16,17,18,19,20,21,22,23,24,25,26,27,28,29,30,31\"/>\n  <line x1=\"360\" x2=\"388\" y1=\"198\" y2=\"198\" class=\"net_5,6,7,8,9,10,11,12,13,14,15,16,17,18,19,20,21,22,23,24,25,26,27,28,29,30,31\"/>\n  <line x1=\"332\" x2=\"360\" y1=\"143\" y2=\"143\" class=\"net_5,6,7,8,9,10,11,12,13,14,15,16,17,18,19,20,21,22,23,24,25,26,27,28,29,30,31\"/>\n  <line x1=\"360\" x2=\"360\" y1=\"143\" y2=\"183\" class=\"net_5,6,7,8,9,10,11,12,13,14,15,16,17,18,19,20,21,22,23,24,25,26,27,28,29,30,31\"/>\n  <line x1=\"360\" x2=\"76\" y1=\"183\" y2=\"183\" class=\"net_5,6,7,8,9,10,11,12,13,14,15,16,17,18,19,20,21,22,23,24,25,26,27,28,29,30,31\"/>\n  <line x1=\"76\" x2=\"76\" y1=\"183\" y2=\"153\" class=\"net_5,6,7,8,9,10,11,12,13,14,15,16,17,18,19,20,21,22,23,24,25,26,27,28,29,30,31\"/>\n  <circle cx=\"360\" cy=\"183\" r=\"2\" style=\"fill:#000\" class=\"net_5,6,7,8,9,10,11,12,13,14,15,16,17,18,19,20,21,22,23,24,25,26,27,28,29,30,31\"/>\n  <line x1=\"76\" x2=\"107.33333333333333\" y1=\"153\" y2=\"153\" class=\"net_5,6,7,8,9,10,11,12,13,14,15,16,17,18,19,20,21,22,23,24,25,26,27,28,29,30,31\"/>\n  <line x1=\"332\" x2=\"360\" y1=\"143\" y2=\"143\" class=\"net_5,6,7,8,9,10,11,12,13,14,15,16,17,18,19,20,21,22,23,24,25,26,27,28,29,30,31\"/>\n  <line x1=\"360\" x2=\"360\" y1=\"143\" y2=\"12\" class=\"net_5,6,7,8,9,10,11,12,13,14,15,16,17,18,19,20,21,22,23,24,25,26,27,28,29,30,31\"/>\n  <line x1=\"360\" x2=\"76\" y1=\"12\" y2=\"12\" class=\"net_5,6,7,8,9,10,11,12,13,14,15,16,17,18,19,20,21,22,23,24,25,26,27,28,29,30,31\"/>\n  <line x1=\"76\" x2=\"76\" y1=\"12\" y2=\"27\" class=\"net_5,6,7,8,9,10,11,12,13,14,15,16,17,18,19,20,21,22,23,24,25,26,27,28,29,30,31\"/>\n  <circle cx=\"360\" cy=\"143\" r=\"2\" style=\"fill:#000\" class=\"net_5,6,7,8,9,10,11,12,13,14,15,16,17,18,19,20,21,22,23,24,25,26,27,28,29,30,31\"/>\n  <line x1=\"76\" x2=\"107.33333333333333\" y1=\"27\" y2=\"27\" class=\"net_5,6,7,8,9,10,11,12,13,14,15,16,17,18,19,20,21,22,23,24,25,26,27,28,29,30,31\"/>\n  <line x1=\"326\" x2=\"388\" y1=\"213\" y2=\"213\" class=\"net_114,115,116,117,118,119,120,121,122,123,124,125,126,127,128,129,130,131,132,133,134,135,136,137,138,139\"/>\n  <line x1=\"42\" x2=\"107.33333333333333\" y1=\"168\" y2=\"168\" class=\"net_140,141,142,143,144,145,146,147,148,149,150,151,152,153,154,155,156,157,158,159,160,161,162,163,164,165,166\"/>\n  <line x1=\"42\" x2=\"107.33333333333333\" y1=\"42\" y2=\"42\" class=\"net_167\"/>\n  <line x1=\"259\" x2=\"302\" y1=\"163\" y2=\"163\" class=\"net_2\"/>\n  <line x1=\"254.33333333333334\" x2=\"271\" y1=\"92\" y2=\"92\" class=\"net_60,61,62,63,64,65,66,67,68,69,70,71,72,73,74,75,76,77,78,79,80,81,82,83,84,85,86\"/>\n  <line x1=\"271\" x2=\"271\" y1=\"92\" y2=\"143\" class=\"net_60,61,62,63,64,65,66,67,68,69,70,71,72,73,74,75,76,77,78,79,80,81,82,83,84,85,86\"/>\n  <line x1=\"271\" x2=\"302\" y1=\"143\" y2=\"143\" class=\"net_60,61,62,63,64,65,66,67,68,69,70,71,72,73,74,75,76,77,78,79,80,81,82,83,84,85,86\"/>\n  <line x1=\"129.33333333333331\" x2=\"169.33333333333334\" y1=\"34.5\" y2=\"34.5\" class=\"net_33,34,35,36,37,38,39,40,41,42,43,44,45,46,47,48,49,50,51,52,53,54,55,56,57,58,59\"/>\n  <line x1=\"131\" x2=\"141\" y1=\"102\" y2=\"102\" class=\"net_168,169,170,171,172,173,174,175,176,177,178,179,180,181,182,183,184,185,186,187,188,189,190,191,192,193,194\"/>\n  <line x1=\"141\" x2=\"141\" y1=\"102\" y2=\"54.5\" class=\"net_168,169,170,171,172,173,174,175,176,177,178,179,180,181,182,183,184,185,186,187,188,189,190,191,192,193,194\"/>\n  <circle cx=\"141\" cy=\"102\" r=\"2\" style=\"fill:#000\" class=\"net_168,169,170,171,172,173,174,175,176,177,178,179,180,181,182,183,184,185,186,187,188,189,190,191,192,193,194\"/>\n  <line x1=\"141\" x2=\"169.33333333333334\" y1=\"54.5\" y2=\"54.5\" class=\"net_168,169,170,171,172,173,174,175,176,177,178,179,180,181,182,183,184,185,186,187,188,189,190,191,192,193,194\"/>\n  <line x1=\"131\" x2=\"234.33333333333334\" y1=\"102\" y2=\"102\" class=\"net_168,169,170,171,172,173,174,175,176,177,178,179,180,181,182,183,184,185,186,187,188,189,190,191,192,193,194\"/>\n  <line x1=\"129.33333333333331\" x2=\"151\" y1=\"160.5\" y2=\"160.5\" class=\"net_32\"/>\n  <line x1=\"151\" x2=\"151\" y1=\"160.5\" y2=\"92\" class=\"net_32\"/>\n  <line x1=\"151\" x2=\"179.33333333333334\" y1=\"92\" y2=\"92\" class=\"net_32\"/>\n  <line x1=\"179.33333333333334\" x2=\"179.33333333333334\" y1=\"92\" y2=\"59.5\" class=\"net_32\"/>\n  <line x1=\"189.33333333333334\" x2=\"206\" y1=\"44.5\" y2=\"44.5\" class=\"net_87,88,89,90,91,92,93,94,95,96,97,98,99,100,101,102,103,104,105,106,107,108,109,110,111,112,113\"/>\n  <line x1=\"206\" x2=\"206\" y1=\"44.5\" y2=\"82\" class=\"net_87,88,89,90,91,92,93,94,95,96,97,98,99,100,101,102,103,104,105,106,107,108,109,110,111,112,113\"/>\n  <line x1=\"206\" x2=\"234.33333333333334\" y1=\"82\" y2=\"82\" class=\"net_87,88,89,90,91,92,93,94,95,96,97,98,99,100,101,102,103,104,105,106,107,108,109,110,111,112,113\"/>\n  <line x1=\"194\" x2=\"244.33333333333334\" y1=\"133\" y2=\"133\" class=\"net_3\"/>\n  <line x1=\"244.33333333333334\" x2=\"244.33333333333334\" y1=\"133\" y2=\"107\" class=\"net_3\"/>\n  <line x1=\"410\" x2=\"445\" y1=\"205.5\" y2=\"205.5\" class=\"net_4\"/>\n</svg>"
          },
          "metadata": {}
        }
      ]
    },
    {
      "cell_type": "code",
      "metadata": {
        "id": "bozenhiauCGR"
      },
      "source": [],
      "execution_count": null,
      "outputs": []
    }
  ]
}