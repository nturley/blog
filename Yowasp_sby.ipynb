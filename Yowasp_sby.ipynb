{
  "nbformat": 4,
  "nbformat_minor": 0,
  "metadata": {
    "colab": {
      "provenance": [],
      "toc_visible": true,
      "authorship_tag": "ABX9TyNs8FuNrjcOeslF/53kZQOx",
      "include_colab_link": true
    },
    "kernelspec": {
      "name": "python3",
      "display_name": "Python 3"
    }
  },
  "cells": [
    {
      "cell_type": "markdown",
      "metadata": {
        "id": "view-in-github",
        "colab_type": "text"
      },
      "source": [
        "<a href=\"https://colab.research.google.com/github/nturley/blog/blob/main/Yowasp_sby.ipynb\" target=\"_parent\"><img src=\"https://colab.research.google.com/assets/colab-badge.svg\" alt=\"Open In Colab\"/></a>"
      ]
    },
    {
      "cell_type": "markdown",
      "metadata": {
        "id": "kN4wP8tk82CL"
      },
      "source": [
        "# Install Deps"
      ]
    },
    {
      "cell_type": "code",
      "metadata": {
        "colab": {
          "base_uri": "https://localhost:8080/"
        },
        "id": "qXx54j_g2ZEg",
        "collapsed": true,
        "outputId": "777b356d-65f7-40f3-a611-a8d632fabc6c"
      },
      "source": [
        "!pip install nmigen\n",
        "!pip install nbmc\n",
        "!npm i -g netlistsvg\n",
        "!pip install parse"
      ],
      "execution_count": null,
      "outputs": [
        {
          "output_type": "stream",
          "text": [
            "Collecting nmigen\n",
            "\u001b[?25l  Downloading https://files.pythonhosted.org/packages/43/08/162d253c8d41460cffda0ca4d60f7fb075bb2b787b82089189c76a33f121/nmigen-0.2.tar.gz (144kB)\n",
            "\r\u001b[K     |██▎                             | 10kB 15.8MB/s eta 0:00:01\r\u001b[K     |████▌                           | 20kB 20.9MB/s eta 0:00:01\r\u001b[K     |██████▉                         | 30kB 25.7MB/s eta 0:00:01\r\u001b[K     |█████████                       | 40kB 27.2MB/s eta 0:00:01\r\u001b[K     |███████████▍                    | 51kB 14.4MB/s eta 0:00:01\r\u001b[K     |█████████████▋                  | 61kB 15.7MB/s eta 0:00:01\r\u001b[K     |████████████████                | 71kB 14.0MB/s eta 0:00:01\r\u001b[K     |██████████████████▏             | 81kB 12.0MB/s eta 0:00:01\r\u001b[K     |████████████████████▍           | 92kB 12.8MB/s eta 0:00:01\r\u001b[K     |██████████████████████▊         | 102kB 11.3MB/s eta 0:00:01\r\u001b[K     |█████████████████████████       | 112kB 11.3MB/s eta 0:00:01\r\u001b[K     |███████████████████████████▎    | 122kB 11.3MB/s eta 0:00:01\r\u001b[K     |█████████████████████████████▌  | 133kB 11.3MB/s eta 0:00:01\r\u001b[K     |███████████████████████████████▉| 143kB 11.3MB/s eta 0:00:01\r\u001b[K     |████████████████████████████████| 153kB 11.3MB/s \n",
            "\u001b[?25hRequirement already satisfied: setuptools in /usr/local/lib/python3.6/dist-packages (from nmigen) (50.3.2)\n",
            "Collecting pyvcd~=0.1.4\n",
            "  Downloading https://files.pythonhosted.org/packages/01/3e/2ff169806a094365722f6670cc777f83bd93c56471ccc260cc5e0ba36b50/pyvcd-0.1.7-py2.py3-none-any.whl\n",
            "Requirement already satisfied: Jinja2 in /usr/local/lib/python3.6/dist-packages (from nmigen) (2.11.2)\n",
            "Requirement already satisfied: six in /usr/local/lib/python3.6/dist-packages (from pyvcd~=0.1.4->nmigen) (1.15.0)\n",
            "Requirement already satisfied: MarkupSafe>=0.23 in /usr/local/lib/python3.6/dist-packages (from Jinja2->nmigen) (1.1.1)\n",
            "Building wheels for collected packages: nmigen\n",
            "  Building wheel for nmigen (setup.py) ... \u001b[?25l\u001b[?25hdone\n",
            "  Created wheel for nmigen: filename=nmigen-0.2-cp36-none-any.whl size=169778 sha256=4e333dfce1316cf6e3809d96fae685e58cdff3025b199da513c155660ecb3d79\n",
            "  Stored in directory: /root/.cache/pip/wheels/47/0f/c4/a5f4c9f18186d2b36cd98499488d0b68ac2cbf9a9db5c3bedf\n",
            "Successfully built nmigen\n",
            "Installing collected packages: pyvcd, nmigen\n",
            "Successfully installed nmigen-0.2 pyvcd-0.1.7\n",
            "Collecting nbmc\n",
            "  Downloading https://files.pythonhosted.org/packages/0c/76/617430745209c535d99bfc8dc81866a105202ae965e57f91f12cad2d0f4a/nbmc-0.0.4.tar.gz\n",
            "Collecting yowasp-yosys\n",
            "\u001b[?25l  Downloading https://files.pythonhosted.org/packages/26/32/bffefeb21fe5eb5f65c31b4cc4f2f70b4f58cf143f47e1cab83dc9537ef8/yowasp_yosys-0.9.post5043.dev70-py3-none-any.whl (6.5MB)\n",
            "\u001b[K     |████████████████████████████████| 6.5MB 8.0MB/s \n",
            "\u001b[?25hCollecting wavedrom\n",
            "\u001b[?25l  Downloading https://files.pythonhosted.org/packages/07/e2/7e71626b60e5549d0dd2d07dd15569d71dbda4d648fc77293aa528dc6c49/wavedrom-2.0.3.post2.tar.gz (138kB)\n",
            "\u001b[K     |████████████████████████████████| 143kB 47.5MB/s \n",
            "\u001b[?25hCollecting z3-solver\n",
            "\u001b[?25l  Downloading https://files.pythonhosted.org/packages/6d/51/86d4d708593b77dd43e1154f25b107d9d9a3300da49759c88254192a0a04/z3_solver-4.8.9.0-py2.py3-none-manylinux1_x86_64.whl (30.5MB)\n",
            "\u001b[K     |████████████████████████████████| 30.5MB 152kB/s \n",
            "\u001b[?25hCollecting pyDigitalWaveTools\n",
            "  Downloading https://files.pythonhosted.org/packages/c8/41/2c4ece0bb5be7e5f75b4b2fa654482ebfea33e31797c37e93290383c1b8f/pyDigitalWaveTools-1.0.tar.gz\n",
            "Collecting parse\n",
            "  Downloading https://files.pythonhosted.org/packages/b8/49/85f19d9ff908817b864deebf7f68211f9a6fc0b48746d372d970f60d01f5/parse-1.18.0.tar.gz\n",
            "Requirement already satisfied: nmigen in /usr/local/lib/python3.6/dist-packages (from nbmc) (0.2)\n",
            "Requirement already satisfied: importlib-resources; python_version < \"3.9\" in /usr/local/lib/python3.6/dist-packages (from yowasp-yosys->nbmc) (3.3.0)\n",
            "Collecting appdirs~=1.4\n",
            "  Downloading https://files.pythonhosted.org/packages/3b/00/2344469e2084fb287c2e0b57b72910309874c3245463acd6cf5e3db69324/appdirs-1.4.4-py2.py3-none-any.whl\n",
            "Collecting wasmtime<0.22,>=0.20\n",
            "\u001b[?25l  Downloading https://files.pythonhosted.org/packages/0c/89/0ed12ac1ab836c6b7114f21eba12c750bc0c442f7580255386708cf773d7/wasmtime-0.21.0-py3-none-manylinux1_x86_64.whl (4.7MB)\n",
            "\u001b[K     |████████████████████████████████| 4.7MB 42.7MB/s \n",
            "\u001b[?25hCollecting svgwrite\n",
            "\u001b[?25l  Downloading https://files.pythonhosted.org/packages/1c/85/1dc25b36c3ac4f3fe285d33065fc0f2ea7bdfb9209d6369e01a3e8ef6252/svgwrite-1.4-py3-none-any.whl (66kB)\n",
            "\u001b[K     |████████████████████████████████| 71kB 9.3MB/s \n",
            "\u001b[?25hCollecting attrdict\n",
            "  Downloading https://files.pythonhosted.org/packages/ef/97/28fe7e68bc7adfce67d4339756e85e9fcf3c6fd7f0c0781695352b70472c/attrdict-2.0.1-py2.py3-none-any.whl\n",
            "Requirement already satisfied: six in /usr/local/lib/python3.6/dist-packages (from wavedrom->nbmc) (1.15.0)\n",
            "Requirement already satisfied: Jinja2 in /usr/local/lib/python3.6/dist-packages (from nmigen->nbmc) (2.11.2)\n",
            "Requirement already satisfied: setuptools in /usr/local/lib/python3.6/dist-packages (from nmigen->nbmc) (50.3.2)\n",
            "Requirement already satisfied: pyvcd~=0.1.4 in /usr/local/lib/python3.6/dist-packages (from nmigen->nbmc) (0.1.7)\n",
            "Requirement already satisfied: zipp>=0.4; python_version < \"3.8\" in /usr/local/lib/python3.6/dist-packages (from importlib-resources; python_version < \"3.9\"->yowasp-yosys->nbmc) (3.4.0)\n",
            "Requirement already satisfied: MarkupSafe>=0.23 in /usr/local/lib/python3.6/dist-packages (from Jinja2->nmigen->nbmc) (1.1.1)\n",
            "Building wheels for collected packages: nbmc, wavedrom, pyDigitalWaveTools, parse\n",
            "  Building wheel for nbmc (setup.py) ... \u001b[?25l\u001b[?25hdone\n",
            "  Created wheel for nbmc: filename=nbmc-0.0.4-cp36-none-any.whl size=2704 sha256=d04de9cc97ee2fc8fbada8c4a6646aeca30a1c9817c0340ebe66bc0e6a029493\n",
            "  Stored in directory: /root/.cache/pip/wheels/5a/dd/db/70f929de2ed4c65fbe98cae9a434b90d01f7f04fc218f89a3d\n",
            "  Building wheel for wavedrom (setup.py) ... \u001b[?25l\u001b[?25hdone\n",
            "  Created wheel for wavedrom: filename=wavedrom-2.0.3.post2-py2.py3-none-any.whl size=32843 sha256=ba1b99a88aaffd23baad5a8e13b468f3f96f37307c2270a8c052cdc04c1651ea\n",
            "  Stored in directory: /root/.cache/pip/wheels/78/d9/b8/b7b77ae81dfe8754a37bc42a2b787ca66cbd4c9f8762f8cba2\n",
            "  Building wheel for pyDigitalWaveTools (setup.py) ... \u001b[?25l\u001b[?25hdone\n",
            "  Created wheel for pyDigitalWaveTools: filename=pyDigitalWaveTools-1.0-cp36-none-any.whl size=20788 sha256=e9afa411d243f90324308e55607a1016c19d9be711e0e5dbd4adb4c262fccdaa\n",
            "  Stored in directory: /root/.cache/pip/wheels/ff/c2/4d/dbecf579a1ebd19ea6f061273805897bf30d21643e8ff99302\n",
            "  Building wheel for parse (setup.py) ... \u001b[?25l\u001b[?25hdone\n",
            "  Created wheel for parse: filename=parse-1.18.0-cp36-none-any.whl size=24134 sha256=39c5bd83b782a8bcc0293fd09ab670c99bec2ad83a12b5e8eb0f59a1a52969a3\n",
            "  Stored in directory: /root/.cache/pip/wheels/2a/53/09/869ca5781ede342254ffac09ca99461b008c3e5f8dd079b0c0\n",
            "Successfully built nbmc wavedrom pyDigitalWaveTools parse\n",
            "Installing collected packages: appdirs, wasmtime, yowasp-yosys, svgwrite, attrdict, wavedrom, z3-solver, pyDigitalWaveTools, parse, nbmc\n",
            "Successfully installed appdirs-1.4.4 attrdict-2.0.1 nbmc-0.0.4 parse-1.18.0 pyDigitalWaveTools-1.0 svgwrite-1.4 wasmtime-0.21.0 wavedrom-2.0.3.post2 yowasp-yosys-0.9.post5043.dev70 z3-solver-4.8.9.0\n",
            "\u001b[K\u001b[?25h/tools/node/bin/netlistsvg -> /tools/node/lib/node_modules/netlistsvg/bin/netlistsvg.js\n",
            "/tools/node/bin/netlistsvg-dumplayout -> /tools/node/lib/node_modules/netlistsvg/bin/exportLayout.js\n",
            "\u001b[K\u001b[?25h+ netlistsvg@1.0.2\n",
            "added 69 packages from 79 contributors in 7.095s\n",
            "Requirement already satisfied: parse in /usr/local/lib/python3.6/dist-packages (1.18.0)\n"
          ],
          "name": "stdout"
        }
      ]
    },
    {
      "cell_type": "markdown",
      "metadata": {
        "id": "4l7izry388vm"
      },
      "source": [
        "# Imports"
      ]
    },
    {
      "cell_type": "code",
      "metadata": {
        "id": "VcrKlAn-VabB"
      },
      "source": [
        "from nmigen import *\n",
        "from nmigen.back import rtlil\n",
        "from nmigen.asserts import Assert, Assume, Cover, Past\n",
        "from nbmc import check, Result\n",
        "from IPython.display import SVG, display\n",
        "from parse import search, findall"
      ],
      "execution_count": null,
      "outputs": []
    },
    {
      "cell_type": "markdown",
      "metadata": {
        "id": "QLlGuSql8lON"
      },
      "source": [
        "# nMigen Design\n",
        "This is a simple digital design with two optional sets of assertions, one that should pass and one that should succeed. We also display a schematic of the logic we are checking."
      ]
    },
    {
      "cell_type": "code",
      "metadata": {
        "id": "RKU--kB8UTCy"
      },
      "source": [
        "%%savecodelines\n",
        "class UpCounter(Elaboratable):\n",
        "    def __init__(self, limit, formal=False, formal_fail=False):\n",
        "        self.formal = formal\n",
        "        self.formal_fail = formal_fail\n",
        "        self.limit = limit\n",
        "\n",
        "        # Ports\n",
        "        self.en  = Signal()\n",
        "        self.ovf = Signal()\n",
        "\n",
        "        # State\n",
        "        self.count = Signal(16)\n",
        "\n",
        "    def elab_formal(self, m):\n",
        "        m.d.sync += Assert(self.count <= self.limit)\n",
        "        m.d.sync += Assume(ResetSignal() == False)\n",
        "        with m.If(Past(self.en) == False):\n",
        "            m.d.sync += Assert(self.count == Past(self.count))\n",
        "        with m.If(Past(self.en)):\n",
        "            with m.If(Past(self.count) < self.limit):\n",
        "                m.d.sync += Assert(self.count == Past(self.count) + 1)\n",
        "            with m.Else():\n",
        "                m.d.sync += Assert(self.count == 0)\n",
        "\n",
        "    def elab_formal_fail(self, m):\n",
        "        m.d.sync += Assert(self.count <= self.limit)\n",
        "        m.d.sync += Assume(ResetSignal() == False)\n",
        "        with m.If(Past(self.en) == False):\n",
        "            m.d.sync += Assert(self.count == Past(self.count))\n",
        "        with m.If(Past(self.en)):\n",
        "            with m.If(Past(self.count) < self.limit):\n",
        "                m.d.sync += Assert(self.count == Past(self.count) + 2)\n",
        "            with m.Else():\n",
        "                m.d.sync += Assert(self.count == 0)\n",
        "\n",
        "    def elaborate(self, platform):\n",
        "        m = Module()\n",
        "\n",
        "        m.d.comb += self.ovf.eq(self.count == self.limit)\n",
        "        with m.If(self.en):\n",
        "            with m.If(self.ovf):\n",
        "                m.d.sync += self.count.eq(0)\n",
        "            with m.Else():\n",
        "                m.d.sync += self.count.eq(self.count + 1)\n",
        "\n",
        "        if self.formal:\n",
        "            self.elab_formal(m)\n",
        "        if self.formal_fail:\n",
        "            self.elab_formal_fail(m)\n",
        "\n",
        "        return m\n"
      ],
      "execution_count": null,
      "outputs": []
    },
    {
      "cell_type": "markdown",
      "metadata": {
        "id": "PkUkxvaQF50i"
      },
      "source": [
        "# Run Bounded Model Check Verification\n",
        "Here we check the two sets of formal properties to see what results we get"
      ]
    },
    {
      "cell_type": "code",
      "metadata": {
        "id": "7JfHh2PH_OEv"
      },
      "source": [
        "from IPython.core.magic import  (\n",
        "    Magics, magics_class, cell_magic, line_magic\n",
        ")\n",
        "\n",
        "@magics_class\n",
        "class SaveCodeLines(Magics):\n",
        "    def __init__(self, shell=None,  **kwargs):\n",
        "        super().__init__(shell=shell, **kwargs)\n",
        "        self.code = None\n",
        "\n",
        "    @cell_magic\n",
        "    def savecodelines(self, line, cell):\n",
        "        \"\"\"store the cell in the store\"\"\"\n",
        "        self.code = cell\n",
        "        self.shell.run_cell(cell)\n",
        "\n",
        "    @line_magic\n",
        "    def showcodelines(self, line):\n",
        "        \"\"\"show all recorded statements\"\"\"\n",
        "        return self.code\n",
        "\n",
        "## use ipython load_ext mechanisme here if distributed\n",
        "get_ipython().register_magics(SaveCodeLines)"
      ],
      "execution_count": null,
      "outputs": []
    },
    {
      "cell_type": "code",
      "metadata": {
        "id": "DphOB2mpgf6Z"
      },
      "source": [
        "def bounded_model_check(design, ports):\n",
        "    bmc_run = check(design, ports)\n",
        "    if bmc_run.result == Result.PASS:\n",
        "        print('Pass!')\n",
        "    if bmc_run.result == Result.FAIL:\n",
        "        search_format = 'Assert failed in top: {}:{linenumber:d}'\n",
        "        line_num = search(search_format, str(bmc_run.stdout))['linenumber']\n",
        "        step_format = 'Checking assertions in step {step_num:d}..'\n",
        "        steps = findall(step_format, str(bmc_run.stdout))\n",
        "        step_num = list(steps)[-1]['step_num']\n",
        "        print(f'Fail! Assertion failed at step {step_num}')\n",
        "        print(f'Failed assertion on line {line_num}')\n",
        "        code = %showcodelines\n",
        "        print('-------------------------------')\n",
        "        print(\"\\n\".join(code.splitlines()[line_num-2:line_num+1]))\n",
        "        print('-------------------------------')\n",
        "        display(bmc_run.drawing)"
      ],
      "execution_count": null,
      "outputs": []
    },
    {
      "cell_type": "code",
      "metadata": {
        "colab": {
          "base_uri": "https://localhost:8080/",
          "height": 344
        },
        "id": "LzEghYSiGJQh",
        "outputId": "d86b9bb2-6b20-4ac0-9859-68b842573c46"
      },
      "source": [
        "design = UpCounter(5, formal_fail=True)\n",
        "bounded_model_check(design, ports=[design.en, design.ovf])"
      ],
      "execution_count": null,
      "outputs": [
        {
          "output_type": "stream",
          "text": [
            "Fail! Assertion failed at step 2\n",
            "Failed assertion on line 32\n",
            "-------------------------------\n",
            "            with m.If(Past(self.count) < self.limit):\n",
            "                m.d.sync += Assert(self.count == Past(self.count) + 2)\n",
            "            with m.Else():\n",
            "-------------------------------\n"
          ],
          "name": "stdout"
        },
        {
          "output_type": "display_data",
          "data": {
            "text/plain": [
              "<svgwrite.drawing.Drawing at 0x7f99dff91b00>"
            ],
            "image/svg+xml": "<svg baseProfile=\"full\" class=\"WaveDrom\" height=\"196\" id=\"svgcontent_0\" overflow=\"hidden\" version=\"1.1\" viewBox=\"0,0,360,196\" width=\"360\" xmlns=\"http://www.w3.org/2000/svg\" xmlns:ev=\"http://www.w3.org/2001/xml-events\" xmlns:xlink=\"http://www.w3.org/1999/xlink\"><defs><g id=\"socket\"><rect height=\"20\" width=\"20\" x=\"6\" y=\"15\" /></g><g id=\"pclk\"><path class=\"s1\" d=\"M0,20 0,0 20,0\" /></g><g id=\"nclk\"><path class=\"s1\" d=\"m0,0 0,20 20,0\" /></g><g id=\"000\"><path class=\"s1\" d=\"m0,20 20,0\" /></g><g id=\"0m0\"><path class=\"s1\" d=\"m0,20 3,0 3,-10 3,10 11,0\" /></g><g id=\"0m1\"><path class=\"s1\" d=\"M0,20 3,20 9,0 20,0\" /></g><g id=\"0mx\"><path class=\"s1\" d=\"M3,20 9,0 20,0\" /><path class=\"s2\" d=\"m20,15 -5,5\" /><path class=\"s2\" d=\"M20,10 10,20\" /><path class=\"s2\" d=\"M20,5 5,20\" /><path class=\"s2\" d=\"M20,0 4,16\" /><path class=\"s2\" d=\"M15,0 6,9\" /><path class=\"s2\" d=\"M10,0 9,1\" /><path class=\"s1\" d=\"m0,20 20,0\" /></g><g id=\"0md\"><path class=\"s3\" d=\"m8,20 10,0\" /><path class=\"s1\" d=\"m0,20 5,0\" /></g><g id=\"0mu\"><path class=\"s1\" d=\"m0,20 3,0 C 7,10 10.107603,0 20,0\" /></g><g id=\"0mz\"><path class=\"s1\" d=\"m0,20 3,0 C 10,10 15,10 20,10\" /></g><g id=\"111\"><path class=\"s1\" d=\"M0,0 20,0\" /></g><g id=\"1m0\"><path class=\"s1\" d=\"m0,0 3,0 6,20 11,0\" /></g><g id=\"1m1\"><path class=\"s1\" d=\"M0,0 3,0 6,10 9,0 20,0\" /></g><g id=\"1mx\"><path class=\"s1\" d=\"m3,0 6,20 11,0\" /><path class=\"s1\" d=\"M0,0 20,0\" /><path class=\"s2\" d=\"m20,15 -5,5\" /><path class=\"s2\" d=\"M20,10 10,20\" /><path class=\"s2\" d=\"M20,5 8,17\" /><path class=\"s2\" d=\"M20,0 7,13\" /><path class=\"s2\" d=\"M15,0 6,9\" /><path class=\"s2\" d=\"M10,0 5,5\" /><path class=\"s2\" d=\"M3.5,1.5 5,0\" /></g><g id=\"1md\"><path class=\"s1\" d=\"m0,0 3,0 c 4,10 7,20 17,20\" /></g><g id=\"1mu\"><path class=\"s1\" d=\"M0,0 5,0\" /><path class=\"s3\" d=\"M8,0 18,0\" /></g><g id=\"1mz\"><path class=\"s1\" d=\"m0,0 3,0 c 7,10 12,10 17,10\" /></g><g id=\"xxx\"><path class=\"s1\" d=\"m0,20 20,0\" /><path class=\"s1\" d=\"M0,0 20,0\" /><path class=\"s2\" d=\"M0,5 5,0\" /><path class=\"s2\" d=\"M0,10 10,0\" /><path class=\"s2\" d=\"M0,15 15,0\" /><path class=\"s2\" d=\"M0,20 20,0\" /><path class=\"s2\" d=\"M5,20 20,5\" /><path class=\"s2\" d=\"M10,20 20,10\" /><path class=\"s2\" d=\"m15,20 5,-5\" /></g><g id=\"xm0\"><path class=\"s1\" d=\"M0,0 4,0 9,20\" /><path class=\"s1\" d=\"m0,20 20,0\" /><path class=\"s2\" d=\"M0,5 4,1\" /><path class=\"s2\" d=\"M0,10 5,5\" /><path class=\"s2\" d=\"M0,15 6,9\" /><path class=\"s2\" d=\"M0,20 7,13\" /><path class=\"s2\" d=\"M5,20 8,17\" /></g><g id=\"xm1\"><path class=\"s1\" d=\"M0,0 20,0\" /><path class=\"s1\" d=\"M0,20 4,20 9,0\" /><path class=\"s2\" d=\"M0,5 5,0\" /><path class=\"s2\" d=\"M0,10 9,1\" /><path class=\"s2\" d=\"M0,15 7,8\" /><path class=\"s2\" d=\"M0,20 5,15\" /></g><g id=\"xmx\"><path class=\"s1\" d=\"m0,20 20,0\" /><path class=\"s1\" d=\"M0,0 20,0\" /><path class=\"s2\" d=\"M0,5 5,0\" /><path class=\"s2\" d=\"M0,10 10,0\" /><path class=\"s2\" d=\"M0,15 15,0\" /><path class=\"s2\" d=\"M0,20 20,0\" /><path class=\"s2\" d=\"M5,20 20,5\" /><path class=\"s2\" d=\"M10,20 20,10\" /><path class=\"s2\" d=\"m15,20 5,-5\" /></g><g id=\"xmd\"><path class=\"s1\" d=\"m0,0 4,0 c 3,10 6,20 16,20\" /><path class=\"s1\" d=\"m0,20 20,0\" /><path class=\"s2\" d=\"M0,5 4,1\" /><path class=\"s2\" d=\"M0,10 5.5,4.5\" /><path class=\"s2\" d=\"M0,15 6.5,8.5\" /><path class=\"s2\" d=\"M0,20 8,12\" /><path class=\"s2\" d=\"m5,20 5,-5\" /><path class=\"s2\" d=\"m10,20 2.5,-2.5\" /></g><g id=\"xmu\"><path class=\"s1\" d=\"M0,0 20,0\" /><path class=\"s1\" d=\"m0,20 4,0 C 7,10 10,0 20,0\" /><path class=\"s2\" d=\"M0,5 5,0\" /><path class=\"s2\" d=\"M0,10 10,0\" /><path class=\"s2\" d=\"M0,15 10,5\" /><path class=\"s2\" d=\"M0,20 6,14\" /></g><g id=\"xmz\"><path class=\"s1\" d=\"m0,0 4,0 c 6,10 11,10 16,10\" /><path class=\"s1\" d=\"m0,20 4,0 C 10,10 15,10 20,10\" /><path class=\"s2\" d=\"M0,5 4.5,0.5\" /><path class=\"s2\" d=\"M0,10 6.5,3.5\" /><path class=\"s2\" d=\"M0,15 8.5,6.5\" /><path class=\"s2\" d=\"M0,20 11.5,8.5\" /></g><g id=\"ddd\"><path class=\"s3\" d=\"m0,20 20,0\" /></g><g id=\"dm0\"><path class=\"s3\" d=\"m0,20 10,0\" /><path class=\"s1\" d=\"m12,20 8,0\" /></g><g id=\"dm1\"><path class=\"s1\" d=\"M0,20 3,20 9,0 20,0\" /></g><g id=\"dmx\"><path class=\"s1\" d=\"M3,20 9,0 20,0\" /><path class=\"s2\" d=\"m20,15 -5,5\" /><path class=\"s2\" d=\"M20,10 10,20\" /><path class=\"s2\" d=\"M20,5 5,20\" /><path class=\"s2\" d=\"M20,0 4,16\" /><path class=\"s2\" d=\"M15,0 6,9\" /><path class=\"s2\" d=\"M10,0 9,1\" /><path class=\"s1\" d=\"m0,20 20,0\" /></g><g id=\"dmd\"><path class=\"s3\" d=\"m0,20 20,0\" /></g><g id=\"dmu\"><path class=\"s1\" d=\"m0,20 3,0 C 7,10 10.107603,0 20,0\" /></g><g id=\"dmz\"><path class=\"s1\" d=\"m0,20 3,0 C 10,10 15,10 20,10\" /></g><g id=\"uuu\"><path class=\"s3\" d=\"M0,0 20,0\" /></g><g id=\"um0\"><path class=\"s1\" d=\"m0,0 3,0 6,20 11,0\" /></g><g id=\"um1\"><path class=\"s3\" d=\"M0,0 10,0\" /><path class=\"s1\" d=\"m12,0 8,0\" /></g><g id=\"umx\"><path class=\"s1\" d=\"m3,0 6,20 11,0\" /><path class=\"s1\" d=\"M0,0 20,0\" /><path class=\"s2\" d=\"m20,15 -5,5\" /><path class=\"s2\" d=\"M20,10 10,20\" /><path class=\"s2\" d=\"M20,5 8,17\" /><path class=\"s2\" d=\"M20,0 7,13\" /><path class=\"s2\" d=\"M15,0 6,9\" /><path class=\"s2\" d=\"M10,0 5,5\" /><path class=\"s2\" d=\"M3.5,1.5 5,0\" /></g><g id=\"umd\"><path class=\"s1\" d=\"m0,0 3,0 c 4,10 7,20 17,20\" /></g><g id=\"umu\"><path class=\"s3\" d=\"M0,0 20,0\" /></g><g id=\"umz\"><path class=\"s4\" d=\"m0,0 3,0 c 7,10 12,10 17,10\" /></g><g id=\"zzz\"><path class=\"s1\" d=\"m0,10 20,0\" /></g><g id=\"zm0\"><path class=\"s1\" d=\"m0,10 6,0 3,10 11,0\" /></g><g id=\"zm1\"><path class=\"s1\" d=\"M0,10 6,10 9,0 20,0\" /></g><g id=\"zmx\"><path class=\"s1\" d=\"m6,10 3,10 11,0\" /><path class=\"s1\" d=\"M0,10 6,10 9,0 20,0\" /><path class=\"s2\" d=\"m20,15 -5,5\" /><path class=\"s2\" d=\"M20,10 10,20\" /><path class=\"s2\" d=\"M20,5 8,17\" /><path class=\"s2\" d=\"M20,0 7,13\" /><path class=\"s2\" d=\"M15,0 6.5,8.5\" /><path class=\"s2\" d=\"M10,0 9,1\" /></g><g id=\"zmd\"><path class=\"s1\" d=\"m0,10 7,0 c 3,5 8,10 13,10\" /></g><g id=\"zmu\"><path class=\"s1\" d=\"m0,10 7,0 C 10,5 15,0 20,0\" /></g><g id=\"zmz\"><path class=\"s1\" d=\"m0,10 20,0\" /></g><g id=\"gap\"><path class=\"s5\" d=\"m7,-2 -4,0 c -5,0 -5,24 -10,24 l 4,0 C 2,22 2,-2 7,-2 z\" /><path class=\"s1\" d=\"M-7,22 C -2,22 -2,-2 3,-2\" /><path class=\"s1\" d=\"M-3,22 C 2,22 2,-2 7,-2\" /></g><g id=\"0mv-3\"><path class=\"s6\" d=\"M9,0 20,0 20,20 3,20 z\" /><path class=\"s1\" d=\"M3,20 9,0 20,0\" /><path class=\"s1\" d=\"m0,20 20,0\" /></g><g id=\"1mv-3\"><path class=\"s6\" d=\"M2.875,0 20,0 20,20 9,20 z\" /><path class=\"s1\" d=\"m3,0 6,20 11,0\" /><path class=\"s1\" d=\"M0,0 20,0\" /></g><g id=\"xmv-3\"><path class=\"s6\" d=\"M9,0 20,0 20,20 9,20 6,10 z\" /><path class=\"s1\" d=\"M0,20 3,20 9,0 20,0\" /><path class=\"s1\" d=\"m0,0 3,0 6,20 11,0\" /><path class=\"s2\" d=\"M0,5 3.5,1.5\" /><path class=\"s2\" d=\"M0,10 4.5,5.5\" /><path class=\"s2\" d=\"M0,15 6,9\" /><path class=\"s2\" d=\"M0,20 4,16\" /></g><g id=\"dmv-3\"><path class=\"s6\" d=\"M9,0 20,0 20,20 3,20 z\" /><path class=\"s1\" d=\"M3,20 9,0 20,0\" /><path class=\"s1\" d=\"m0,20 20,0\" /></g><g id=\"umv-3\"><path class=\"s6\" d=\"M3,0 20,0 20,20 9,20 z\" /><path class=\"s1\" d=\"m3,0 6,20 11,0\" /><path class=\"s1\" d=\"M0,0 20,0\" /></g><g id=\"zmv-3\"><path class=\"s6\" d=\"M9,0 20,0 20,20 9,20 6,10 z\" /><path class=\"s1\" d=\"m6,10 3,10 11,0\" /><path class=\"s1\" d=\"M0,10 6,10 9,0 20,0\" /></g><g id=\"vvv-3\"><path class=\"s6\" d=\"M20,20 0,20 0,0 20,0\" /><path class=\"s1\" d=\"m0,20 20,0\" /><path class=\"s1\" d=\"M0,0 20,0\" /></g><g id=\"vm0-3\"><path class=\"s6\" d=\"M0,20 0,0 3,0 9,20\" /><path class=\"s1\" d=\"M0,0 3,0 9,20\" /><path class=\"s1\" d=\"m0,20 20,0\" /></g><g id=\"vm1-3\"><path class=\"s6\" d=\"M0,0 0,20 3,20 9,0\" /><path class=\"s1\" d=\"M0,0 20,0\" /><path class=\"s1\" d=\"M0,20 3,20 9,0\" /></g><g id=\"vmx-3\"><path class=\"s6\" d=\"M0,0 0,20 3,20 6,10 3,0\" /><path class=\"s1\" d=\"m0,0 3,0 6,20 11,0\" /><path class=\"s1\" d=\"M0,20 3,20 9,0 20,0\" /><path class=\"s2\" d=\"m20,15 -5,5\" /><path class=\"s2\" d=\"M20,10 10,20\" /><path class=\"s2\" d=\"M20,5 8,17\" /><path class=\"s2\" d=\"M20,0 7,13\" /><path class=\"s2\" d=\"M15,0 7,8\" /><path class=\"s2\" d=\"M10,0 9,1\" /></g><g id=\"vmd-3\"><path class=\"s6\" d=\"m0,0 0,20 20,0 C 10,20 7,10 3,0\" /><path class=\"s1\" d=\"m0,0 3,0 c 4,10 7,20 17,20\" /><path class=\"s1\" d=\"m0,20 20,0\" /></g><g id=\"vmu-3\"><path class=\"s6\" d=\"m0,0 0,20 3,0 C 7,10 10,0 20,0\" /><path class=\"s1\" d=\"m0,20 3,0 C 7,10 10,0 20,0\" /><path class=\"s1\" d=\"M0,0 20,0\" /></g><g id=\"vmz-3\"><path class=\"s6\" d=\"M0,0 3,0 C 10,10 15,10 20,10 15,10 10,10 3,20 L 0,20\" /><path class=\"s1\" d=\"m0,0 3,0 c 7,10 12,10 17,10\" /><path class=\"s1\" d=\"m0,20 3,0 C 10,10 15,10 20,10\" /></g><g id=\"vmv-3-3\"><path class=\"s6\" d=\"M9,0 20,0 20,20 9,20 6,10 z\" /><path class=\"s6\" d=\"M3,0 0,0 0,20 3,20 6,10 z\" /><path class=\"s1\" d=\"m0,0 3,0 6,20 11,0\" /><path class=\"s1\" d=\"M0,20 3,20 9,0 20,0\" /></g><g id=\"vmv-3-4\"><path class=\"s7\" d=\"M9,0 20,0 20,20 9,20 6,10 z\" /><path class=\"s6\" d=\"M3,0 0,0 0,20 3,20 6,10 z\" /><path class=\"s1\" d=\"m0,0 3,0 6,20 11,0\" /><path class=\"s1\" d=\"M0,20 3,20 9,0 20,0\" /></g><g id=\"vmv-3-5\"><path class=\"s8\" d=\"M9,0 20,0 20,20 9,20 6,10 z\" /><path class=\"s6\" d=\"M3,0 0,0 0,20 3,20 6,10 z\" /><path class=\"s1\" d=\"m0,0 3,0 6,20 11,0\" /><path class=\"s1\" d=\"M0,20 3,20 9,0 20,0\" /></g><g id=\"vmv-4-3\"><path class=\"s6\" d=\"M9,0 20,0 20,20 9,20 6,10 z\" /><path class=\"s7\" d=\"M3,0 0,0 0,20 3,20 6,10 z\" /><path class=\"s1\" d=\"m0,0 3,0 6,20 11,0\" /><path class=\"s1\" d=\"M0,20 3,20 9,0 20,0\" /></g><g id=\"vmv-4-4\"><path class=\"s7\" d=\"M9,0 20,0 20,20 9,20 6,10 z\" /><path class=\"s7\" d=\"M3,0 0,0 0,20 3,20 6,10 z\" /><path class=\"s1\" d=\"m0,0 3,0 6,20 11,0\" /><path class=\"s1\" d=\"M0,20 3,20 9,0 20,0\" /></g><g id=\"vmv-4-5\"><path class=\"s8\" d=\"M9,0 20,0 20,20 9,20 6,10 z\" /><path class=\"s7\" d=\"M3,0 0,0 0,20 3,20 6,10 z\" /><path class=\"s1\" d=\"m0,0 3,0 6,20 11,0\" /><path class=\"s1\" d=\"M0,20 3,20 9,0 20,0\" /></g><g id=\"vmv-5-3\"><path class=\"s6\" d=\"M9,0 20,0 20,20 9,20 6,10 z\" /><path class=\"s8\" d=\"M3,0 0,0 0,20 3,20 6,10 z\" /><path class=\"s1\" d=\"m0,0 3,0 6,20 11,0\" /><path class=\"s1\" d=\"M0,20 3,20 9,0 20,0\" /></g><g id=\"vmv-5-4\"><path class=\"s7\" d=\"M9,0 20,0 20,20 9,20 6,10 z\" /><path class=\"s8\" d=\"M3,0 0,0 0,20 3,20 6,10 z\" /><path class=\"s1\" d=\"m0,0 3,0 6,20 11,0\" /><path class=\"s1\" d=\"M0,20 3,20 9,0 20,0\" /></g><g id=\"vmv-5-5\"><path class=\"s8\" d=\"M9,0 20,0 20,20 9,20 6,10 z\" /><path class=\"s8\" d=\"M3,0 0,0 0,20 3,20 6,10 z\" /><path class=\"s1\" d=\"m0,0 3,0 6,20 11,0\" /><path class=\"s1\" d=\"M0,20 3,20 9,0 20,0\" /></g><g id=\"0mv-4\"><path class=\"s7\" d=\"M9,0 20,0 20,20 3,20 z\" /><path class=\"s1\" d=\"M3,20 9,0 20,0\" /><path class=\"s1\" d=\"m0,20 20,0\" /></g><g id=\"1mv-4\"><path class=\"s7\" d=\"M2.875,0 20,0 20,20 9,20 z\" /><path class=\"s1\" d=\"m3,0 6,20 11,0\" /><path class=\"s1\" d=\"M0,0 20,0\" /></g><g id=\"xmv-4\"><path class=\"s7\" d=\"M9,0 20,0 20,20 9,20 6,10 z\" /><path class=\"s1\" d=\"M0,20 3,20 9,0 20,0\" /><path class=\"s1\" d=\"m0,0 3,0 6,20 11,0\" /><path class=\"s2\" d=\"M0,5 3.5,1.5\" /><path class=\"s2\" d=\"M0,10 4.5,5.5\" /><path class=\"s2\" d=\"M0,15 6,9\" /><path class=\"s2\" d=\"M0,20 4,16\" /></g><g id=\"dmv-4\"><path class=\"s7\" d=\"M9,0 20,0 20,20 3,20 z\" /><path class=\"s1\" d=\"M3,20 9,0 20,0\" /><path class=\"s1\" d=\"m0,20 20,0\" /></g><g id=\"umv-4\"><path class=\"s7\" d=\"M3,0 20,0 20,20 9,20 z\" /><path class=\"s1\" d=\"m3,0 6,20 11,0\" /><path class=\"s1\" d=\"M0,0 20,0\" /></g><g id=\"zmv-4\"><path class=\"s7\" d=\"M9,0 20,0 20,20 9,20 6,10 z\" /><path class=\"s1\" d=\"m6,10 3,10 11,0\" /><path class=\"s1\" d=\"M0,10 6,10 9,0 20,0\" /></g><g id=\"0mv-5\"><path class=\"s8\" d=\"M9,0 20,0 20,20 3,20 z\" /><path class=\"s1\" d=\"M3,20 9,0 20,0\" /><path class=\"s1\" d=\"m0,20 20,0\" /></g><g id=\"1mv-5\"><path class=\"s8\" d=\"M2.875,0 20,0 20,20 9,20 z\" /><path class=\"s1\" d=\"m3,0 6,20 11,0\" /><path class=\"s1\" d=\"M0,0 20,0\" /></g><g id=\"xmv-5\"><path class=\"s8\" d=\"M9,0 20,0 20,20 9,20 6,10 z\" /><path class=\"s1\" d=\"M0,20 3,20 9,0 20,0\" /><path class=\"s1\" d=\"m0,0 3,0 6,20 11,0\" /><path class=\"s2\" d=\"M0,5 3.5,1.5\" /><path class=\"s2\" d=\"M0,10 4.5,5.5\" /><path class=\"s2\" d=\"M0,15 6,9\" /><path class=\"s2\" d=\"M0,20 4,16\" /></g><g id=\"dmv-5\"><path class=\"s8\" d=\"M9,0 20,0 20,20 3,20 z\" /><path class=\"s1\" d=\"M3,20 9,0 20,0\" /><path class=\"s1\" d=\"m0,20 20,0\" /></g><g id=\"umv-5\"><path class=\"s8\" d=\"M3,0 20,0 20,20 9,20 z\" /><path class=\"s1\" d=\"m3,0 6,20 11,0\" /><path class=\"s1\" d=\"M0,0 20,0\" /></g><g id=\"zmv-5\"><path class=\"s8\" d=\"M9,0 20,0 20,20 9,20 6,10 z\" /><path class=\"s1\" d=\"m6,10 3,10 11,0\" /><path class=\"s1\" d=\"M0,10 6,10 9,0 20,0\" /></g><g id=\"vvv-4\"><path class=\"s7\" d=\"M20,20 0,20 0,0 20,0\" /><path class=\"s1\" d=\"m0,20 20,0\" /><path class=\"s1\" d=\"M0,0 20,0\" /></g><g id=\"vm0-4\"><path class=\"s7\" d=\"M0,20 0,0 3,0 9,20\" /><path class=\"s1\" d=\"M0,0 3,0 9,20\" /><path class=\"s1\" d=\"m0,20 20,0\" /></g><g id=\"vm1-4\"><path class=\"s7\" d=\"M0,0 0,20 3,20 9,0\" /><path class=\"s1\" d=\"M0,0 20,0\" /><path class=\"s1\" d=\"M0,20 3,20 9,0\" /></g><g id=\"vmx-4\"><path class=\"s7\" d=\"M0,0 0,20 3,20 6,10 3,0\" /><path class=\"s1\" d=\"m0,0 3,0 6,20 11,0\" /><path class=\"s1\" d=\"M0,20 3,20 9,0 20,0\" /><path class=\"s2\" d=\"m20,15 -5,5\" /><path class=\"s2\" d=\"M20,10 10,20\" /><path class=\"s2\" d=\"M20,5 8,17\" /><path class=\"s2\" d=\"M20,0 7,13\" /><path class=\"s2\" d=\"M15,0 7,8\" /><path class=\"s2\" d=\"M10,0 9,1\" /></g><g id=\"vmd-4\"><path class=\"s7\" d=\"m0,0 0,20 20,0 C 10,20 7,10 3,0\" /><path class=\"s1\" d=\"m0,0 3,0 c 4,10 7,20 17,20\" /><path class=\"s1\" d=\"m0,20 20,0\" /></g><g id=\"vmu-4\"><path class=\"s7\" d=\"m0,0 0,20 3,0 C 7,10 10,0 20,0\" /><path class=\"s1\" d=\"m0,20 3,0 C 7,10 10,0 20,0\" /><path class=\"s1\" d=\"M0,0 20,0\" /></g><g id=\"vmz-4\"><path class=\"s7\" d=\"M0,0 3,0 C 10,10 15,10 20,10 15,10 10,10 3,20 L 0,20\" /><path class=\"s1\" d=\"m0,0 3,0 c 7,10 12,10 17,10\" /><path class=\"s1\" d=\"m0,20 3,0 C 10,10 15,10 20,10\" /></g><g id=\"vvv-5\"><path class=\"s8\" d=\"M20,20 0,20 0,0 20,0\" /><path class=\"s1\" d=\"m0,20 20,0\" /><path class=\"s1\" d=\"M0,0 20,0\" /></g><g id=\"vm0-5\"><path class=\"s8\" d=\"M0,20 0,0 3,0 9,20\" /><path class=\"s1\" d=\"M0,0 3,0 9,20\" /><path class=\"s1\" d=\"m0,20 20,0\" /></g><g id=\"vm1-5\"><path class=\"s8\" d=\"M0,0 0,20 3,20 9,0\" /><path class=\"s1\" d=\"M0,0 20,0\" /><path class=\"s1\" d=\"M0,20 3,20 9,0\" /></g><g id=\"vmx-5\"><path class=\"s8\" d=\"M0,0 0,20 3,20 6,10 3,0\" /><path class=\"s1\" d=\"m0,0 3,0 6,20 11,0\" /><path class=\"s1\" d=\"M0,20 3,20 9,0 20,0\" /><path class=\"s2\" d=\"m20,15 -5,5\" /><path class=\"s2\" d=\"M20,10 10,20\" /><path class=\"s2\" d=\"M20,5 8,17\" /><path class=\"s2\" d=\"M20,0 7,13\" /><path class=\"s2\" d=\"M15,0 7,8\" /><path class=\"s2\" d=\"M10,0 9,1\" /></g><g id=\"vmd-5\"><path class=\"s8\" d=\"m0,0 0,20 20,0 C 10,20 7,10 3,0\" /><path class=\"s1\" d=\"m0,0 3,0 c 4,10 7,20 17,20\" /><path class=\"s1\" d=\"m0,20 20,0\" /></g><g id=\"vmu-5\"><path class=\"s8\" d=\"m0,0 0,20 3,0 C 7,10 10,0 20,0\" /><path class=\"s1\" d=\"m0,20 3,0 C 7,10 10,0 20,0\" /><path class=\"s1\" d=\"M0,0 20,0\" /></g><g id=\"vmz-5\"><path class=\"s8\" d=\"M0,0 3,0 C 10,10 15,10 20,10 15,10 10,10 3,20 L 0,20\" /><path class=\"s1\" d=\"m0,0 3,0 c 7,10 12,10 17,10\" /><path class=\"s1\" d=\"m0,20 3,0 C 10,10 15,10 20,10\" /></g><g id=\"Pclk\"><path class=\"s9\" d=\"M-3,12 0,3 3,12 C 1,11 -1,11 -3,12 z\" /><path class=\"s1\" d=\"M0,20 0,0 20,0\" /></g><g id=\"Nclk\"><path class=\"s9\" d=\"M-3,8 0,17 3,8 C 1,9 -1,9 -3,8 z\" /><path class=\"s1\" d=\"m0,0 0,20 20,0\" /></g><g id=\"vvv-2\"><path class=\"s10\" d=\"M20,20 0,20 0,0 20,0\" /><path class=\"s1\" d=\"m0,20 20,0\" /><path class=\"s1\" d=\"M0,0 20,0\" /></g><g id=\"vm0-2\"><path class=\"s10\" d=\"M0,20 0,0 3,0 9,20\" /><path class=\"s1\" d=\"M0,0 3,0 9,20\" /><path class=\"s1\" d=\"m0,20 20,0\" /></g><g id=\"vm1-2\"><path class=\"s10\" d=\"M0,0 0,20 3,20 9,0\" /><path class=\"s1\" d=\"M0,0 20,0\" /><path class=\"s1\" d=\"M0,20 3,20 9,0\" /></g><g id=\"vmx-2\"><path class=\"s10\" d=\"M0,0 0,20 3,20 6,10 3,0\" /><path class=\"s1\" d=\"m0,0 3,0 6,20 11,0\" /><path class=\"s1\" d=\"M0,20 3,20 9,0 20,0\" /><path class=\"s2\" d=\"m20,15 -5,5\" /><path class=\"s2\" d=\"M20,10 10,20\" /><path class=\"s2\" d=\"M20,5 8,17\" /><path class=\"s2\" d=\"M20,0 7,13\" /><path class=\"s2\" d=\"M15,0 7,8\" /><path class=\"s2\" d=\"M10,0 9,1\" /></g><g id=\"vmd-2\"><path class=\"s10\" d=\"m0,0 0,20 20,0 C 10,20 7,10 3,0\" /><path class=\"s1\" d=\"m0,0 3,0 c 4,10 7,20 17,20\" /><path class=\"s1\" d=\"m0,20 20,0\" /></g><g id=\"vmu-2\"><path class=\"s10\" d=\"m0,0 0,20 3,0 C 7,10 10,0 20,0\" /><path class=\"s1\" d=\"m0,20 3,0 C 7,10 10,0 20,0\" /><path class=\"s1\" d=\"M0,0 20,0\" /></g><g id=\"vmz-2\"><path class=\"s10\" d=\"M0,0 3,0 C 10,10 15,10 20,10 15,10 10,10 3,20 L 0,20\" /><path class=\"s1\" d=\"m0,0 3,0 c 7,10 12,10 17,10\" /><path class=\"s1\" d=\"m0,20 3,0 C 10,10 15,10 20,10\" /></g><g id=\"0mv-2\"><path class=\"s10\" d=\"M9,0 20,0 20,20 3,20 z\" /><path class=\"s1\" d=\"M3,20 9,0 20,0\" /><path class=\"s1\" d=\"m0,20 20,0\" /></g><g id=\"1mv-2\"><path class=\"s10\" d=\"M2.875,0 20,0 20,20 9,20 z\" /><path class=\"s1\" d=\"m3,0 6,20 11,0\" /><path class=\"s1\" d=\"M0,0 20,0\" /></g><g id=\"xmv-2\"><path class=\"s10\" d=\"M9,0 20,0 20,20 9,20 6,10 z\" /><path class=\"s1\" d=\"M0,20 3,20 9,0 20,0\" /><path class=\"s1\" d=\"m0,0 3,0 6,20 11,0\" /><path class=\"s2\" d=\"M0,5 3.5,1.5\" /><path class=\"s2\" d=\"M0,10 4.5,5.5\" /><path class=\"s2\" d=\"M0,15 6,9\" /><path class=\"s2\" d=\"M0,20 4,16\" /></g><g id=\"dmv-2\"><path class=\"s10\" d=\"M9,0 20,0 20,20 3,20 z\" /><path class=\"s1\" d=\"M3,20 9,0 20,0\" /><path class=\"s1\" d=\"m0,20 20,0\" /></g><g id=\"umv-2\"><path class=\"s10\" d=\"M3,0 20,0 20,20 9,20 z\" /><path class=\"s1\" d=\"m3,0 6,20 11,0\" /><path class=\"s1\" d=\"M0,0 20,0\" /></g><g id=\"zmv-2\"><path class=\"s10\" d=\"M9,0 20,0 20,20 9,20 6,10 z\" /><path class=\"s1\" d=\"m6,10 3,10 11,0\" /><path class=\"s1\" d=\"M0,10 6,10 9,0 20,0\" /></g><g id=\"vmv-3-2\"><path class=\"s10\" d=\"M9,0 20,0 20,20 9,20 6,10 z\" /><path class=\"s6\" d=\"M3,0 0,0 0,20 3,20 6,10 z\" /><path class=\"s1\" d=\"m0,0 3,0 6,20 11,0\" /><path class=\"s1\" d=\"M0,20 3,20 9,0 20,0\" /></g><g id=\"vmv-4-2\"><path class=\"s10\" d=\"M9,0 20,0 20,20 9,20 6,10 z\" /><path class=\"s7\" d=\"M3,0 0,0 0,20 3,20 6,10 z\" /><path class=\"s1\" d=\"m0,0 3,0 6,20 11,0\" /><path class=\"s1\" d=\"M0,20 3,20 9,0 20,0\" /></g><g id=\"vmv-5-2\"><path class=\"s10\" d=\"M9,0 20,0 20,20 9,20 6,10 z\" /><path class=\"s8\" d=\"M3,0 0,0 0,20 3,20 6,10 z\" /><path class=\"s1\" d=\"m0,0 3,0 6,20 11,0\" /><path class=\"s1\" d=\"M0,20 3,20 9,0 20,0\" /></g><g id=\"vmv-2-3\"><path class=\"s6\" d=\"M9,0 20,0 20,20 9,20 6,10 z\" /><path class=\"s10\" d=\"M3,0 0,0 0,20 3,20 6,10 z\" /><path class=\"s1\" d=\"m0,0 3,0 6,20 11,0\" /><path class=\"s1\" d=\"M0,20 3,20 9,0 20,0\" /></g><g id=\"vmv-2-4\"><path class=\"s7\" d=\"M9,0 20,0 20,20 9,20 6,10 z\" /><path class=\"s10\" d=\"M3,0 0,0 0,20 3,20 6,10 z\" /><path class=\"s1\" d=\"m0,0 3,0 6,20 11,0\" /><path class=\"s1\" d=\"M0,20 3,20 9,0 20,0\" /></g><g id=\"vmv-2-5\"><path class=\"s8\" d=\"M9,0 20,0 20,20 9,20 6,10 z\" /><path class=\"s10\" d=\"M3,0 0,0 0,20 3,20 6,10 z\" /><path class=\"s1\" d=\"m0,0 3,0 6,20 11,0\" /><path class=\"s1\" d=\"M0,20 3,20 9,0 20,0\" /></g><g id=\"vmv-2-2\"><path class=\"s10\" d=\"M9,0 20,0 20,20 9,20 6,10 z\" /><path class=\"s10\" d=\"M3,0 0,0 0,20 3,20 6,10 z\" /><path class=\"s1\" d=\"m0,0 3,0 6,20 11,0\" /><path class=\"s1\" d=\"M0,20 3,20 9,0 20,0\" /></g><g id=\"arrow0\"><path class=\"s11\" d=\"m-12,-3 9,3 -9,3 c 1,-2 1,-4 0,-6 z\" /><path class=\"s12\" d=\"M0,0 -15,0\" /></g><marker id=\"arrowhead\" markerHeight=\"7\" markerUnits=\"strokeWidth\" markerWidth=\"10\" orient=\"auto\" refX=\"15\" refY=\"0\" style=\"fill:#0041c4\" viewBox=\"0 -4 11 8\"><path d=\"M0 -4 11 0 0 4z\" /></marker><marker id=\"arrowtail\" markerHeight=\"7\" markerUnits=\"strokeWidth\" markerWidth=\"10\" orient=\"auto\" refX=\"-15\" refY=\"0\" style=\"fill:#0041c4\" viewBox=\"-11 -4 11 8\"><path d=\"M0 -4 -11 0 0 4z\" /></marker></defs><style type=\"text/css\"><![CDATA[\ntext{font-size:11pt;\n    font-style:normal;\n    font-variant:normal;\n    font-weight:normal;\n    font-stretch:normal;\n    text-align:center;\n    fill-opacity:1;\n    font-family:Helvetica}\n.muted{fill:#aaa}\n.warning{fill:#f6b900}\n.error{fill:#f60000}\n.info{fill:#0041c4}\n.success{fill:#00ab00}\n.h1{font-size:33pt;font-weight:bold}\n.h2{font-size:27pt;font-weight:bold}\n.h3{font-size:20pt;font-weight:bold}\n.h4{font-size:14pt;font-weight:bold}\n.h5{font-size:11pt;font-weight:bold}\n.h6{font-size:8pt;font-weight:bold}\n.s1{fill:none;\n    stroke:#000;\n    stroke-width:1;\n    stroke-linecap:round;\n    stroke-linejoin:miter;\n    stroke-miterlimit:4;\n    stroke-opacity:1;\n    stroke-dasharray:none}\n.s2{fill:none;\n    stroke:#000;\n    stroke-width:0.5;\n    stroke-linecap:round;\n    stroke-linejoin:miter;\n    stroke-miterlimit:4;\n    stroke-opacity:1;\n    stroke-dasharray:none}\n.s3{color:#000;\n    fill:none;\n    stroke:#000;\n    stroke-width:1;\n    stroke-linecap:round;\n    stroke-linejoin:miter;\n    stroke-miterlimit:4;\n    stroke-opacity:1;\n    stroke-dasharray:1,3;\n    stroke-dashoffset:0;\n    marker:none;\n    visibility:visible;\n    display:inline;\n    overflow:visible;\n    enable-background:accumulate}\n.s4{color:#000;\n    fill:none;\n    stroke:#000;\n    stroke-width:1;\n    stroke-linecap:round;\n    stroke-linejoin:miter;\n    stroke-miterlimit:4;\n    stroke-opacity:1;\n    stroke-dasharray:none;\n    stroke-dashoffset:0;\n    marker:none;\n    visibility:visible;\n    display:inline;\n    overflow:visible}\n.s5{fill:#fff;stroke:none}\n.s6{color:#000;\n    fill:#ffffb4;\n    fill-opacity:1;\n    fill-rule:nonzero;\n    stroke:none;\n    stroke-width:1px;\n    marker:none;\n    visibility:visible;\n    display:inline;\n    overflow:visible;\n    enable-background:accumulate}\n.s7{color:#000;\n    fill:#ffe0b9;\n    fill-opacity:1;\n    fill-rule:nonzero;\n    stroke:none;\n    stroke-width:1px;\n    marker:none;\n    visibility:visible;\n    display:inline;\n    overflow:visible;\n    enable-background:accumulate}\n.s8{color:#000;\n    fill:#b9e0ff;\n    fill-opacity:1;\n    fill-rule:nonzero;\n    stroke:none;\n    stroke-width:1px;\n    marker:none;\n    visibility:visible;\n    display:inline;\n    overflow:visible;\n    enable-background:accumulate}\n.s9{fill:#000;\n    fill-opacity:1;\n    stroke:none}\n    .s10{color:#000;\n    fill:#fff;\n    fill-opacity:1;\n    fill-rule:nonzero;\n    stroke:none;\n    stroke-width:1px;\n    marker:none;\n    visibility:visible;\n    display:inline;\n    overflow:visible;\n    enable-background:accumulate}\n.s11{fill:#0041c4;fill-opacity:1;stroke:none}\n.s12{fill:none;\n    stroke:#0041c4;\n    stroke-width:1;\n    stroke-linecap:round;\n    stroke-linejoin:miter;\n    stroke-miterlimit:4;\n    stroke-opacity:1;\n    stroke-dasharray:none}\n]]></style><g id=\"waves_0\"><g id=\"lanes_0\" transform=\"translate(60.5,46.5)\"><g id=\"labels_0\"><g id=\"labels_0_0\" transform=\"translate(0,5)\" /><g id=\"labels_1_0\" transform=\"translate(0,35)\" /><g id=\"labels_2_0\" transform=\"translate(0,65)\" /><g id=\"labels_3_0\" transform=\"translate(0,95)\" /><g id=\"labels_4_0\" transform=\"translate(0,125)\" /></g><g id=\"gmarks_0\"><path d=\"m 0,0 0,150\" id=\"gmark_0_0\" style=\"stroke:#888;stroke-width:0.5;stroke-dasharray:1,3\" /><path d=\"m 40,0 0,150\" id=\"gmark_1_0\" style=\"stroke:#888;stroke-width:0.5;stroke-dasharray:1,3\" /><path d=\"m 80,0 0,150\" id=\"gmark_2_0\" style=\"stroke:#888;stroke-width:0.5;stroke-dasharray:1,3\" /><path d=\"m 120,0 0,150\" id=\"gmark_3_0\" style=\"stroke:#888;stroke-width:0.5;stroke-dasharray:1,3\" /><path d=\"m 160,0 0,150\" id=\"gmark_4_0\" style=\"stroke:#888;stroke-width:0.5;stroke-dasharray:1,3\" /><path d=\"m 200,0 0,150\" id=\"gmark_5_0\" style=\"stroke:#888;stroke-width:0.5;stroke-dasharray:1,3\" /><path d=\"m 240,0 0,150\" id=\"gmark_6_0\" style=\"stroke:#888;stroke-width:0.5;stroke-dasharray:1,3\" /><path d=\"m 280,0 0,150\" id=\"gmark_7_0\" style=\"stroke:#888;stroke-width:0.5;stroke-dasharray:1,3\" /><text fill=\"#000\" text-anchor=\"middle\" x=\"140.0\" xml:space=\"preserve\" y=\"-13\"><tspan>Counterexample</tspan></text></g><g id=\"wavelane_0_0\" transform=\"translate(0,5)\"><text class=\"info\" text-anchor=\"end\" x=\"-10\" xml:space=\"preserve\" y=\"15\"><tspan>clk</tspan></text><g id=\"wavelane_draw_0_0\" transform=\"translate(0,0)\"><use transform=\"translate(0)\" xlink:href=\"#111\" /><use transform=\"translate(20)\" xlink:href=\"#111\" /><use transform=\"translate(40)\" xlink:href=\"#1m0\" /><use transform=\"translate(60)\" xlink:href=\"#000\" /><use transform=\"translate(80)\" xlink:href=\"#0m1\" /><use transform=\"translate(100)\" xlink:href=\"#111\" /><use transform=\"translate(120)\" xlink:href=\"#1m0\" /><use transform=\"translate(140)\" xlink:href=\"#000\" /><use transform=\"translate(160)\" xlink:href=\"#0m1\" /><use transform=\"translate(180)\" xlink:href=\"#111\" /><use transform=\"translate(200)\" xlink:href=\"#1m0\" /><use transform=\"translate(220)\" xlink:href=\"#000\" /><use transform=\"translate(240)\" xlink:href=\"#0m1\" /><use transform=\"translate(260)\" xlink:href=\"#111\" /></g></g><g id=\"wavelane_1_0\" transform=\"translate(0,35)\"><text class=\"info\" text-anchor=\"end\" x=\"-10\" xml:space=\"preserve\" y=\"15\"><tspan>count</tspan></text><g id=\"wavelane_draw_1_0\" transform=\"translate(0,0)\"><use transform=\"translate(0)\" xlink:href=\"#vvv-2\" /><use transform=\"translate(20)\" xlink:href=\"#vvv-2\" /><use transform=\"translate(40)\" xlink:href=\"#vvv-2\" /><use transform=\"translate(60)\" xlink:href=\"#vvv-2\" /><use transform=\"translate(80)\" xlink:href=\"#vmv-2-2\" /><use transform=\"translate(100)\" xlink:href=\"#vvv-2\" /><use transform=\"translate(120)\" xlink:href=\"#vvv-2\" /><use transform=\"translate(140)\" xlink:href=\"#vvv-2\" /><use transform=\"translate(160)\" xlink:href=\"#vvv-2\" /><use transform=\"translate(180)\" xlink:href=\"#vvv-2\" /><use transform=\"translate(200)\" xlink:href=\"#vvv-2\" /><use transform=\"translate(220)\" xlink:href=\"#vvv-2\" /><use transform=\"translate(240)\" xlink:href=\"#vvv-2\" /><use transform=\"translate(260)\" xlink:href=\"#vvv-2\" /><text text-anchor=\"middle\" x=\"26\" xml:space=\"preserve\" y=\"15\"><tspan>0</tspan></text><text text-anchor=\"middle\" x=\"186\" xml:space=\"preserve\" y=\"15\"><tspan>1</tspan></text></g></g><g id=\"wavelane_2_0\" transform=\"translate(0,65)\"><text class=\"info\" text-anchor=\"end\" x=\"-10\" xml:space=\"preserve\" y=\"15\"><tspan>en</tspan></text><g id=\"wavelane_draw_2_0\" transform=\"translate(0,0)\"><use transform=\"translate(0)\" xlink:href=\"#111\" /><use transform=\"translate(20)\" xlink:href=\"#111\" /><use transform=\"translate(40)\" xlink:href=\"#111\" /><use transform=\"translate(60)\" xlink:href=\"#111\" /><use transform=\"translate(80)\" xlink:href=\"#1m0\" /><use transform=\"translate(100)\" xlink:href=\"#000\" /><use transform=\"translate(120)\" xlink:href=\"#000\" /><use transform=\"translate(140)\" xlink:href=\"#000\" /><use transform=\"translate(160)\" xlink:href=\"#0m1\" /><use transform=\"translate(180)\" xlink:href=\"#111\" /><use transform=\"translate(200)\" xlink:href=\"#111\" /><use transform=\"translate(220)\" xlink:href=\"#111\" /><use transform=\"translate(240)\" xlink:href=\"#111\" /><use transform=\"translate(260)\" xlink:href=\"#111\" /></g></g><g id=\"wavelane_3_0\" transform=\"translate(0,95)\"><text class=\"info\" text-anchor=\"end\" x=\"-10\" xml:space=\"preserve\" y=\"15\"><tspan>ovf</tspan></text><g id=\"wavelane_draw_3_0\" transform=\"translate(0,0)\"><use transform=\"translate(0)\" xlink:href=\"#000\" /><use transform=\"translate(20)\" xlink:href=\"#000\" /><use transform=\"translate(40)\" xlink:href=\"#000\" /><use transform=\"translate(60)\" xlink:href=\"#000\" /><use transform=\"translate(80)\" xlink:href=\"#000\" /><use transform=\"translate(100)\" xlink:href=\"#000\" /><use transform=\"translate(120)\" xlink:href=\"#000\" /><use transform=\"translate(140)\" xlink:href=\"#000\" /><use transform=\"translate(160)\" xlink:href=\"#000\" /><use transform=\"translate(180)\" xlink:href=\"#000\" /><use transform=\"translate(200)\" xlink:href=\"#000\" /><use transform=\"translate(220)\" xlink:href=\"#000\" /><use transform=\"translate(240)\" xlink:href=\"#000\" /><use transform=\"translate(260)\" xlink:href=\"#000\" /></g></g><g id=\"wavelane_4_0\" transform=\"translate(0,125)\"><text class=\"info\" text-anchor=\"end\" x=\"-10\" xml:space=\"preserve\" y=\"15\"><tspan>rst</tspan></text><g id=\"wavelane_draw_4_0\" transform=\"translate(0,0)\"><use transform=\"translate(0)\" xlink:href=\"#000\" /><use transform=\"translate(20)\" xlink:href=\"#000\" /><use transform=\"translate(40)\" xlink:href=\"#000\" /><use transform=\"translate(60)\" xlink:href=\"#000\" /><use transform=\"translate(80)\" xlink:href=\"#000\" /><use transform=\"translate(100)\" xlink:href=\"#000\" /><use transform=\"translate(120)\" xlink:href=\"#000\" /><use transform=\"translate(140)\" xlink:href=\"#000\" /><use transform=\"translate(160)\" xlink:href=\"#000\" /><use transform=\"translate(180)\" xlink:href=\"#000\" /><use transform=\"translate(200)\" xlink:href=\"#000\" /><use transform=\"translate(220)\" xlink:href=\"#000\" /><use transform=\"translate(240)\" xlink:href=\"#000\" /><use transform=\"translate(260)\" xlink:href=\"#000\" /></g></g><g id=\"wavearcs_0\" /><g id=\"wavegaps_0\"><g id=\"wavegap_0_0\" transform=\"translate(0,5)\" /><g id=\"wavegap_1_0\" transform=\"translate(0,35)\" /><g id=\"wavegap_2_0\" transform=\"translate(0,65)\" /><g id=\"wavegap_3_0\" transform=\"translate(0,95)\" /><g id=\"wavegap_4_0\" transform=\"translate(0,125)\" /></g></g><g id=\"groups_0\" /></g></svg>"
          },
          "metadata": {
            "tags": []
          }
        }
      ]
    },
    {
      "cell_type": "code",
      "metadata": {
        "colab": {
          "base_uri": "https://localhost:8080/"
        },
        "id": "5bGrMcx5F8ut",
        "outputId": "04612df1-49d1-41b7-db69-364f956e8c28"
      },
      "source": [
        "design = UpCounter(5, formal=True)\n",
        "bounded_model_check(design, ports=[design.en, design.ovf])"
      ],
      "execution_count": null,
      "outputs": [
        {
          "output_type": "stream",
          "text": [
            "Pass!\n"
          ],
          "name": "stdout"
        }
      ]
    },
    {
      "cell_type": "code",
      "metadata": {
        "id": "hO04ibAd7bnb"
      },
      "source": [],
      "execution_count": null,
      "outputs": []
    }
  ]
}